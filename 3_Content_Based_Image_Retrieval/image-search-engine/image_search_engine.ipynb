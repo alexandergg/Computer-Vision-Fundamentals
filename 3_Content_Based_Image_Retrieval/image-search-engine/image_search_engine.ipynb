{
 "cells": [
  {
   "cell_type": "markdown",
   "metadata": {},
   "source": [
    "# Computer Vision – Content Based Image Retrieval"
   ]
  },
  {
   "cell_type": "markdown",
   "metadata": {},
   "source": [
    "Los motores de búsqueda de imágenes abarcan métodos para hacer que un conjunto de datos de imágenes pueda buscarse visualmente utilizando solo el contenido de la imagen. Los académicos lo llaman Recuperación de imágenes basadas en contenido (CBIR). Los motores de búsqueda de imágenes dependen de la extracción de características de las imágenes y, a continuación, comparan las similitudes en función de los vectores de características extraídos y la métrica de la distancia.\n",
    "\n",
    "En general, suele haber tres tipos de motores de búsqueda de imágenes: búsqueda por metadatos, búsqueda por ejemplo y un enfoque híbrido de los dos."
   ]
  },
  {
   "cell_type": "markdown",
   "metadata": {},
   "source": [
    "- **Definición del descriptor de la imagen:** en esta fase, debemos decidir qué aspecto de la imagen desea describir. ¿Te interesa el color de la imagen? ¿La forma de un objeto en la imagen? ¿O quieres caracterizar la textura?\n",
    "\n",
    "\n",
    "- **Extracción de características e indexación de su conjunto de datos:** Ahora que hemos definido nuestro descriptor de imagen, su trabajo consiste en aplicar este descriptor de imagen a cada imagen en su conjunto de datos, extraer características de estas imágenes y escribirlas en el almacenamiento (por ejemplo, archivo CSV... Redis, etc.) para que luego puedan compararse por similitud. Además, debe considerar si alguna estructura de datos especializada se utilizará para facilitar una búsqueda más rápida.\n",
    "\n",
    "\n",
    "- **Definición de la métrica de similitud:** Ahora que tenemos una colección de vectores de características (quizás índice). Pero, ¿cómo vas a compararlos por similitud? Las opciones populares incluyen la distancia euclidiana, la distancia del coseno...etc, pero la elección real depende en gran medida de:\n",
    "\n",
    "    1. El conjunto de datos\n",
    "    2. Los tipos de características que vamos a extraer.\n",
    "\n",
    "\n",
    "- **Búsqueda:** El paso final es realizar una búsqueda real. Un usuario enviará una imagen de consulta a su sistema (desde un formulario de carga o mediante una aplicación móvil, por ejemplo) y su trabajo consistirá en:\n",
    "\n",
    "    1. Extraer características de esta imagen de consulta.\n",
    "    2. Aplicar su función de similitud para comparar Las características de consulta a las características ya indexadas. A partir de ahí, simplemente devuelve los resultados más relevantes de acuerdo con su función de similitud. \n",
    "    \n",
    "Estos son los cuatro pasos más básicos de cualquier sistema CBIR. A medida que se vuelven más complejos y utilizan diferentes representaciones de características, la cantidad de pasos aumenta y agregará una cantidad significativa de subpasos a cada paso mencionado anteriormente.\n"
   ]
  },
  {
   "cell_type": "markdown",
   "metadata": {},
   "source": [
    "### Setup"
   ]
  },
  {
   "cell_type": "code",
   "execution_count": 4,
   "metadata": {},
   "outputs": [],
   "source": [
    "from cbir.rgbhistogram import RGBHistogram\n",
    "from cbir.searcher import Searcher\n",
    "import numpy as np\n",
    "import pickle\n",
    "import cv2\n",
    "import glob\n",
    "import os\n",
    "from PIL import Image\n",
    "import imutils\n",
    "from imutils.paths import list_images"
   ]
  },
  {
   "cell_type": "markdown",
   "metadata": {},
   "source": [
    "## Create Index"
   ]
  },
  {
   "cell_type": "code",
   "execution_count": 6,
   "metadata": {
    "scrolled": false
   },
   "outputs": [
    {
     "name": "stdout",
     "output_type": "stream",
     "text": [
      "images\\coruscant-001.png\n",
      "coruscant-001.png\n",
      "images\\coruscant-002.png\n",
      "coruscant-002.png\n",
      "images\\coruscant-003.png\n",
      "coruscant-003.png\n",
      "images\\coruscant-004.png\n",
      "coruscant-004.png\n",
      "images\\coruscant-005.png\n",
      "coruscant-005.png\n",
      "images\\dagobah-001.png\n",
      "dagobah-001.png\n",
      "images\\dagobah-002.png\n",
      "dagobah-002.png\n",
      "images\\dagobah-003.png\n",
      "dagobah-003.png\n",
      "images\\dagobah-004.png\n",
      "dagobah-004.png\n",
      "images\\dagobah-005.png\n",
      "dagobah-005.png\n",
      "images\\hoth-001.png\n",
      "hoth-001.png\n",
      "images\\hoth-002.png\n",
      "hoth-002.png\n",
      "images\\hoth-003.png\n",
      "hoth-003.png\n",
      "images\\hoth-004.png\n",
      "hoth-004.png\n",
      "images\\hoth-005.png\n",
      "hoth-005.png\n",
      "images\\naboo-001.png\n",
      "naboo-001.png\n",
      "images\\naboo-002.png\n",
      "naboo-002.png\n",
      "images\\naboo-003.png\n",
      "naboo-003.png\n",
      "images\\naboo-004.png\n",
      "naboo-004.png\n",
      "images\\naboo-005.png\n",
      "naboo-005.png\n",
      "images\\tatooine-001.png\n",
      "tatooine-001.png\n",
      "images\\tatooine-002.png\n",
      "tatooine-002.png\n",
      "images\\tatooine-003.png\n",
      "tatooine-003.png\n",
      "images\\tatooine-004.png\n",
      "tatooine-004.png\n",
      "images\\tatooine-005.png\n",
      "tatooine-005.png\n",
      "[INFO] done...indexed 25 images\n"
     ]
    }
   ],
   "source": [
    "# Inicializaremos el diccionario del Index para almacenar nuestro nuestro de\n",
    "# imágenes, con la 'clave' del diccionario como nombre de archivo \n",
    "# y el 'valor' nuestras características de la imagen o vector\n",
    "index = {}\n",
    "\n",
    "# Inicializar nuestro descriptor de imagen - un histograma 3D RGB con\n",
    "# 8 bins o contenedores por canal\n",
    "desc = RGBHistogram([8, 8, 8])\n",
    "\n",
    "for imagePath in list_images(\"images\"):\n",
    "    # extraer nuestro ID único de la imagen (por ejemplo, el nombre del archivo)\n",
    "    print(imagePath)\n",
    "    path = imagePath.split(os.sep)\n",
    "    k = path[1]\n",
    "    print(k)\n",
    " \n",
    "    # Cargamos la imagen, la describimos usando nuestro descriptor de histograma RGB,\n",
    "    # y actualizamos el Index\n",
    "    image = cv2.imread(imagePath)\n",
    "    image = cv2.resize(image, (400, 166))\n",
    "    features = desc.describe(image)\n",
    "    index[k] = features\n",
    "\n",
    "f = open(\"index.pickle\", \"wb\")\n",
    "f.write(pickle.dumps(index))\n",
    "f.close()\n",
    " \n",
    "# show how many images we indexed\n",
    "print(\"[INFO] done...indexed {} images\".format(len(index)))"
   ]
  },
  {
   "cell_type": "markdown",
   "metadata": {},
   "source": [
    "## Searching"
   ]
  },
  {
   "cell_type": "code",
   "execution_count": 9,
   "metadata": {
    "scrolled": true
   },
   "outputs": [
    {
     "name": "stdout",
     "output_type": "stream",
     "text": [
      "query: queries/shire-query.png\n",
      "\t1. coruscant-004.png : 0.699\n",
      "\t2. dagobah-002.png : 0.803\n",
      "\t3. coruscant-005.png : 1.036\n",
      "\t4. dagobah-001.png : 1.073\n",
      "\t5. dagobah-003.png : 1.258\n",
      "\t6. naboo-001.png : 1.401\n",
      "\t7. dagobah-004.png : 1.451\n",
      "\t8. dagobah-005.png : 1.720\n",
      "\t9. coruscant-003.png : 1.805\n",
      "\t10. tatooine-005.png : 1.829\n"
     ]
    }
   ],
   "source": [
    "queryImage = cv2.imread(\"queries/coruscant-query.png\")\n",
    "cv2.imshow(\"Query\", queryImage)\n",
    "\n",
    "print(\"query: %s\" % (\"queries/shire-query.png\"))\n",
    "\n",
    "# Describir la querie con un histograma 3D RGB con 8 bins por canal\n",
    "desc = RGBHistogram([8, 8, 8])\n",
    "queryFeatures = desc.describe(queryImage)\n",
    "\n",
    "# Cargar el índice realizar la búsqueda\n",
    "index = pickle.loads(open(\"index.pickle\", \"rb\").read())\n",
    "searcher = Searcher(index)\n",
    "results = searcher.search(queryFeatures)\n",
    " \n",
    "# Inicializar los dos conjuntos de salida para mostrar nuestros resultados -\n",
    "# tenemos un total de 26 imágenes en el Index, pero solo mostraremos\n",
    "# los 10 mejores resultados. 5 imágenes por conjunto, con\n",
    "# imágenes que son 400x166 pixeles para no ocupar mucho\n",
    "montageA = np.zeros((166 * 5, 400, 3), dtype = \"uint8\")\n",
    "montageB = np.zeros((166 * 5, 400, 3), dtype = \"uint8\")\n",
    " \n",
    "# loop esobre los diez primeros resultados\n",
    "for j in range(0, 10):\n",
    "    # Extraer el resultado (estamos usando row-major order) y\n",
    "    # cargar la imagen del resultado\n",
    "    (score, imageName) = results[j]\n",
    "    path = os.path.join(\"images\", imageName)\n",
    "    result = cv2.imread(path)\n",
    "    print(\"\\t{}. {} : {:.3f}\".format(j + 1, imageName, score))\n",
    " \n",
    "    # verificar si se debe usar el primer conjunto\n",
    "    if j < 5:\n",
    "        montageA[j * 166:(j + 1) * 166, :] = result\n",
    " \n",
    "    # de lo contrario, se debe utilizar el segundo conjunto.\n",
    "    else:\n",
    "        montageB[(j - 5) * 166:((j - 5) + 1) * 166, :] = result\n",
    "        \n",
    "cv2.imshow(\"Results 1-5\", montageA)\n",
    "cv2.imshow(\"Results 6-10\", montageB)\n",
    "cv2.waitKey(0)\n",
    "cv2.destroyAllWindows()"
   ]
  },
  {
   "cell_type": "code",
   "execution_count": null,
   "metadata": {},
   "outputs": [],
   "source": []
  }
 ],
 "metadata": {
  "kernelspec": {
   "display_name": "computer-vision-env",
   "language": "python",
   "name": "computer-vision-env"
  },
  "language_info": {
   "codemirror_mode": {
    "name": "ipython",
    "version": 3
   },
   "file_extension": ".py",
   "mimetype": "text/x-python",
   "name": "python",
   "nbconvert_exporter": "python",
   "pygments_lexer": "ipython3",
   "version": "3.5.6"
  },
  "nav_menu": {},
  "toc": {
   "navigate_menu": true,
   "number_sections": true,
   "sideBar": true,
   "threshold": 6,
   "toc_cell": false,
   "toc_section_display": "block",
   "toc_window_display": true
  },
  "toc_position": {
   "height": "616px",
   "left": "0px",
   "right": "20px",
   "top": "106px",
   "width": "213px"
  }
 },
 "nbformat": 4,
 "nbformat_minor": 1
}
