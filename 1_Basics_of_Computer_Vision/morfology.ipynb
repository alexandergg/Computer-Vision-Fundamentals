{
 "cells": [
  {
   "cell_type": "markdown",
   "metadata": {},
   "source": [
    "# Computer Vision – Operaciones Morfológicas"
   ]
  },
  {
   "cell_type": "markdown",
   "metadata": {},
   "source": [
    "Las operaciones morfológicas se usan comúnmente como pasos de preprocesamiento para soluciones de visión de computadora más potentes, como OCR, reconocimiento automático de matrículas (ANPR) y detección de códigos de barras.\n",
    "\n",
    "Las operaciones morfológicas son transformaciones simples aplicadas a imágenes binarias o en escala de grises. Más específicamente, aplicamos operaciones morfológicas a formas y estructuras dentro de las imágenes. Podemos usar operaciones morfológicas para aumentar el tamaño de los objetos en las imágenes y también para disminuirlos. También podemos utilizar operaciones morfológicas para cerrar las brechas entre los objetos y abrirlos. Las operaciones morfológicas “sondean” una imagen con un elemento estructurante. Este elemento estructurante define el vecindario que se examinará alrededor de cada píxel. Y en función de la operación dada y el tamaño del elemento estructurante, podemos ajustar nuestra imagen de salida.\n"
   ]
  },
  {
   "cell_type": "markdown",
   "metadata": {},
   "source": [
    "### Setup"
   ]
  },
  {
   "cell_type": "code",
   "execution_count": 1,
   "metadata": {},
   "outputs": [],
   "source": [
    "import cv2\n",
    "\n",
    "image = cv2.imread(\"C:/Users/algonzalez/source/repos/Computer_Vision/1_Basics_of_Computer_Vision/images/file.jpeg\")\n",
    "gray = cv2.cvtColor(image, cv2.COLOR_BGR2GRAY)\n",
    "cv2.imshow(\"Original\", image)\n",
    "cv2.waitKey(0)\n",
    "cv2.destroyAllWindows()"
   ]
  },
  {
   "cell_type": "markdown",
   "metadata": {},
   "source": [
    "## Erosion"
   ]
  },
  {
   "cell_type": "markdown",
   "metadata": {},
   "source": [
    "Una erosión en una imagen \"erosiona\" el objeto del primer plano o foreground y lo hace más pequeño. En pocas palabras, los píxeles cerca del límite de un objeto en una imagen se descartarán, \"erosionándolos\".\n",
    "\n",
    "La erosión funciona definiendo un elemento de estructuración y luego deslizando este elemento de estructuración de izquierda a derecha y de arriba a abajo a través de la imagen de entrada. Un píxel del foreground en la imagen de entrada se mantendrá solo si TODOS los píxeles dentro del elemento estructurante son > 0. De lo contrario, los píxeles se establecen en 0 (es decir, en el fondo). La erosión es útil para eliminar pequeñas manchas en una imagen o desconectar dos objetos conectados."
   ]
  },
  {
   "cell_type": "code",
   "execution_count": 2,
   "metadata": {},
   "outputs": [],
   "source": [
    "# Aplicar una serie de valores para la Erosion\n",
    "for i in range(0, 3):\n",
    "    eroded = cv2.erode(gray.copy(), None, iterations=i + 1)\n",
    "    cv2.imshow(\"Eroded {} times\".format(i + 1), eroded)\n",
    "    cv2.waitKey(0)\n",
    "    cv2.destroyAllWindows()\n",
    "cv2.imshow(\"Original\", image)\n",
    "cv2.waitKey(0)\n",
    "cv2.destroyAllWindows()"
   ]
  },
  {
   "cell_type": "markdown",
   "metadata": {},
   "source": [
    "## Dilation"
   ]
  },
  {
   "cell_type": "markdown",
   "metadata": {},
   "source": [
    "Lo contrario de una erosión es una dilatación. Al igual que una erosión arrasará con los píxeles del foreground, una dilatación aumentará los píxeles del foreground. Las dilataciones aumentan el tamaño del objeto de foreground y son especialmente útiles para unir partes rotas de una imagen. Las dilataciones, al igual que una erosión, también utilizan elementos de estructuración: un píxel central p del elemento de estructuración se establece en blanco si CUALQUIER píxel en el elemento de estructuración es > 0."
   ]
  },
  {
   "cell_type": "code",
   "execution_count": 3,
   "metadata": {},
   "outputs": [],
   "source": [
    "for i in range(0, 3):\n",
    "    dilated = cv2.dilate(gray.copy(), None, iterations=i + 1)\n",
    "    cv2.imshow(\"Dilated {} times\".format(i + 1), dilated)\n",
    "    cv2.waitKey(0)\n",
    "    cv2.destroyAllWindows()\n",
    "    \n",
    "cv2.imshow(\"Original\", image)\n",
    "cv2.waitKey(0)\n",
    "cv2.destroyAllWindows()"
   ]
  },
  {
   "cell_type": "markdown",
   "metadata": {},
   "source": [
    "## Opening"
   ]
  },
  {
   "cell_type": "markdown",
   "metadata": {},
   "source": [
    "Un \"Opening\", es una erosión seguida de una dilatación. Realizar una operación de \"Opening\" nos permite eliminar pequeñas manchas de una imagen: primero se aplica una erosión para eliminar las pequeñas manchas, luego se aplica una dilatación para volver a crecer el tamaño del objeto original."
   ]
  },
  {
   "cell_type": "code",
   "execution_count": 6,
   "metadata": {},
   "outputs": [],
   "source": [
    "kernelSizes = [(3, 3), (5, 5), (7, 7)]\n",
    "\n",
    "# loop sobre los kernels y aplicar una operación de \"Opening\" a la imagen\n",
    "for kernelSize in kernelSizes:\n",
    "    kernel = cv2.getStructuringElement(cv2.MORPH_RECT, kernelSize)\n",
    "    opening = cv2.morphologyEx(gray, cv2.MORPH_OPEN, kernel)\n",
    "    cv2.imshow(\"Opening: ({}, {})\".format(kernelSize[0], kernelSize[1]), opening)\n",
    "    cv2.waitKey(0)\n",
    "    cv2.destroyAllWindows()\n",
    "cv2.imshow(\"Original\", image)\n",
    "cv2.waitKey(0)\n",
    "cv2.destroyAllWindows()"
   ]
  },
  {
   "cell_type": "markdown",
   "metadata": {},
   "source": [
    "## Closing"
   ]
  },
  {
   "cell_type": "markdown",
   "metadata": {},
   "source": [
    "El opuesto exacto a una apertura sería un cierre. Un cierre es una dilatación seguida de una erosión. Como su nombre indica, se utiliza un cierre para cerrar los agujeros dentro de los objetos o para conectar componentes entre sí."
   ]
  },
  {
   "cell_type": "code",
   "execution_count": 7,
   "metadata": {},
   "outputs": [],
   "source": [
    "# loop sobre los kernels y aplicar una operación de \"Closing\" a la imagen\n",
    "for kernelSize in kernelSizes:\n",
    "    kernel = cv2.getStructuringElement(cv2.MORPH_RECT, kernelSize)\n",
    "    closing = cv2.morphologyEx(gray, cv2.MORPH_CLOSE, kernel)\n",
    "    cv2.imshow(\"Closing: ({}, {})\".format(kernelSize[0], kernelSize[1]), closing)\n",
    "    cv2.waitKey(0)\n",
    "    cv2.destroyAllWindows()\n",
    "    \n",
    "cv2.imshow(\"Original\", image)\n",
    "cv2.waitKey(0)\n",
    "cv2.destroyAllWindows()"
   ]
  },
  {
   "cell_type": "markdown",
   "metadata": {},
   "source": [
    "## Morphlogical Gradient"
   ]
  },
  {
   "cell_type": "markdown",
   "metadata": {},
   "source": [
    "Un gradiente morfológico es la diferencia entre la dilatación y la erosión. Es útil para determinar el contorno de un objeto particular de una imagen."
   ]
  },
  {
   "cell_type": "code",
   "execution_count": 8,
   "metadata": {},
   "outputs": [],
   "source": [
    "# loop sobre los kernels y aplicar una operación de \"Morphlogical Gradien\" a la imagen\n",
    "for kernelSize in kernelSizes:\n",
    "    kernel = cv2.getStructuringElement(cv2.MORPH_RECT, kernelSize)\n",
    "    gradient = cv2.morphologyEx(gray, cv2.MORPH_GRADIENT, kernel)\n",
    "    cv2.imshow(\"Gradient: ({}, {})\".format(kernelSize[0], kernelSize[1]), gradient)\n",
    "    cv2.waitKey(0)\n",
    "    cv2.destroyAllWindows()"
   ]
  },
  {
   "cell_type": "markdown",
   "metadata": {},
   "source": [
    "## Top Hat & Black Hat"
   ]
  },
  {
   "cell_type": "markdown",
   "metadata": {},
   "source": [
    "La operación morfológica de un top hat (también conocido como sombrero blanco) es la diferencia entre la imagen de entrada original y la apertura. Una operación de top hat se usa para revelar regiones brillantes de una imagen sobre fondos oscuros."
   ]
  },
  {
   "cell_type": "code",
   "execution_count": 4,
   "metadata": {},
   "outputs": [],
   "source": [
    "# construir un kernel y aplicar una operación blackhat que\n",
    "# nos permita encontrar regiones oscuras sobre un fondo claro\n",
    "rectKernel = cv2.getStructuringElement(cv2.MORPH_RECT, (13, 5))\n",
    "blackhat = cv2.morphologyEx(gray, cv2.MORPH_BLACKHAT, rectKernel)\n",
    "\n",
    "# de manera similar, una operación de tophat (también llamada \"whitehat\") habilitará\n",
    "# para encontrar regiones claras sobre un fondo oscuro\n",
    "tophat = cv2.morphologyEx(gray, cv2.MORPH_TOPHAT, rectKernel)\n",
    "\n",
    "cv2.imshow(\"Original\", image)\n",
    "cv2.imshow(\"Blackhat\", blackhat)\n",
    "cv2.imshow(\"Tophat\", tophat)\n",
    "cv2.waitKey(0)\n",
    "cv2.destroyAllWindows()"
   ]
  },
  {
   "cell_type": "code",
   "execution_count": null,
   "metadata": {},
   "outputs": [],
   "source": []
  }
 ],
 "metadata": {
  "kernelspec": {
   "display_name": "computer-vision-env",
   "language": "python",
   "name": "computer-vision-env"
  },
  "language_info": {
   "codemirror_mode": {
    "name": "ipython",
    "version": 3
   },
   "file_extension": ".py",
   "mimetype": "text/x-python",
   "name": "python",
   "nbconvert_exporter": "python",
   "pygments_lexer": "ipython3",
   "version": "3.5.6"
  },
  "nav_menu": {},
  "toc": {
   "navigate_menu": true,
   "number_sections": true,
   "sideBar": true,
   "threshold": 6,
   "toc_cell": false,
   "toc_section_display": "block",
   "toc_window_display": true
  },
  "toc_position": {
   "height": "616px",
   "left": "0px",
   "right": "20px",
   "top": "106px",
   "width": "213px"
  }
 },
 "nbformat": 4,
 "nbformat_minor": 1
}
