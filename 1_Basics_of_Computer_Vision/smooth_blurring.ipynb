{
 "cells": [
  {
   "cell_type": "markdown",
   "metadata": {},
   "source": [
    "# Computer Vision – Smooth & Blurring"
   ]
  },
  {
   "cell_type": "markdown",
   "metadata": {},
   "source": [
    "Es lo que sucede cuando la cámara desenfoca una imagen. Las regiones más nítidas en la imagen pierden su detalle. El objetivo aquí es utilizar un low-pass filter para reducir la cantidad de ruido y los detalles de una imagen. En la práctica, esto significa que cada píxel de la imagen se mezcla con las intensidades de píxeles circundantes. Esta \"mezcla\" de píxeles en un vecindario se convierte en nuestro píxel borroso. Si bien este efecto generalmente no es deseado en nuestras fotografías, en realidad es bastante útil al realizar tareas de procesamiento de imágenes. De hecho, suavizar y difuminar es uno de los pasos de preprocesamiento más comunes en la visión por computadora y el procesamiento de imágenes.\n",
    "\n",
    "Como veremos a lo largo de esta formación, muchas funciones de procesamiento de imágenes y visión de computadora, como el umbral o thresholdings y la detección de bordes, funcionan mejor si la imagen se suaviza o se difumina por primera vez.\n"
   ]
  },
  {
   "cell_type": "markdown",
   "metadata": {},
   "source": [
    "### Setup"
   ]
  },
  {
   "cell_type": "code",
   "execution_count": 1,
   "metadata": {},
   "outputs": [],
   "source": [
    "import cv2\n",
    "\n",
    "image = cv2.imread(\"C:/Users/algonzalez/source/repos/Computer_Vision/1_Basics_of_Computer_Vision/images/IMG_1009.JPG\")\n",
    "gray = cv2.cvtColor(image, cv2.COLOR_BGR2GRAY)\n",
    "cv2.imshow(\"Original\", image)\n",
    "cv2.waitKey(0)\n",
    "cv2.destroyAllWindows()"
   ]
  },
  {
   "cell_type": "markdown",
   "metadata": {},
   "source": [
    "## Average Blurring"
   ]
  },
  {
   "cell_type": "markdown",
   "metadata": {},
   "source": [
    "El método promedio simple es rápido, pero puede que no conserve los bordes en las imágenes"
   ]
  },
  {
   "cell_type": "code",
   "execution_count": 2,
   "metadata": {},
   "outputs": [],
   "source": [
    "kernelSizes = [(3, 3), (9, 9), (15, 15)]\n",
    "\n",
    "# loop sobre los tamaños del kernel y aplicar \"average\" blur a la imagen\n",
    "for (kX, kY) in kernelSizes:\n",
    "    blurred = cv2.blur(image, (kX, kY))\n",
    "    cv2.imshow(\"Average ({}, {})\".format(kX, kY), blurred)\n",
    "    cv2.waitKey(0)\n",
    "    cv2.destroyAllWindows()\n",
    "    \n",
    "cv2.imshow(\"Original\", image)\n",
    "cv2.waitKey(0)\n",
    "cv2.destroyAllWindows()"
   ]
  },
  {
   "cell_type": "markdown",
   "metadata": {},
   "source": [
    "## Gaussian Blurring"
   ]
  },
  {
   "cell_type": "markdown",
   "metadata": {},
   "source": [
    "Aplicar un desenfoque gaussiano es mejor para conservar los bordes, pero es un poco más lento que el método promedio."
   ]
  },
  {
   "cell_type": "code",
   "execution_count": 3,
   "metadata": {},
   "outputs": [],
   "source": [
    "# loop sobre los tamaños del kernel y aplicar \"Gaussian\" blur a la imagen\n",
    "for (kX, kY) in kernelSizes:\n",
    "    blurred = cv2.GaussianBlur(image, (kX, kY), 0)\n",
    "    cv2.imshow(\"Gaussian ({}, {})\".format(kX, kY), blurred)\n",
    "    cv2.waitKey(0)\n",
    "    cv2.destroyAllWindows()\n",
    "\n",
    "cv2.imshow(\"Original\", image)\n",
    "cv2.waitKey(0)\n",
    "cv2.destroyAllWindows()"
   ]
  },
  {
   "cell_type": "markdown",
   "metadata": {},
   "source": [
    "## Median Blurring"
   ]
  },
  {
   "cell_type": "markdown",
   "metadata": {},
   "source": [
    "Un filtro de mediana se usa principalmente para reducir el ruido, ya que la estadística de la mediana es mucho más robusta y menos sensible a los valores atípicos que otros métodos estadísticos como la media.\n",
    "\n",
    "Finalmente, el filtro bilateral conserva los bordes, pero es sustancialmente más lento que los otros métodos. El filtrado bilateral también cuenta con la mayoría de los parámetros para sintonizar, lo que puede convertirse en una molestia para sintonizar correctamente."
   ]
  },
  {
   "cell_type": "code",
   "execution_count": 4,
   "metadata": {},
   "outputs": [],
   "source": [
    "# loop sobre los tamaños del kernel y aplicar \"Median\" blur to the image\n",
    "for k in (3, 9, 15):\n",
    "    blurred = cv2.medianBlur(image, k)\n",
    "    cv2.imshow(\"Median {}\".format(k), blurred)\n",
    "    cv2.waitKey(0)\n",
    "    cv2.destroyAllWindows()"
   ]
  },
  {
   "cell_type": "code",
   "execution_count": null,
   "metadata": {},
   "outputs": [],
   "source": []
  }
 ],
 "metadata": {
  "kernelspec": {
   "display_name": "computer-vision-env",
   "language": "python",
   "name": "computer-vision-env"
  },
  "language_info": {
   "codemirror_mode": {
    "name": "ipython",
    "version": 3
   },
   "file_extension": ".py",
   "mimetype": "text/x-python",
   "name": "python",
   "nbconvert_exporter": "python",
   "pygments_lexer": "ipython3",
   "version": "3.5.6"
  },
  "nav_menu": {},
  "toc": {
   "navigate_menu": true,
   "number_sections": true,
   "sideBar": true,
   "threshold": 6,
   "toc_cell": false,
   "toc_section_display": "block",
   "toc_window_display": true
  },
  "toc_position": {
   "height": "616px",
   "left": "0px",
   "right": "20px",
   "top": "106px",
   "width": "213px"
  }
 },
 "nbformat": 4,
 "nbformat_minor": 1
}
