{
 "cells": [
  {
   "cell_type": "markdown",
   "metadata": {},
   "source": [
    "# Computer Vision – Metodologias básicas"
   ]
  },
  {
   "cell_type": "markdown",
   "metadata": {},
   "source": [
    "### Setup"
   ]
  },
  {
   "cell_type": "code",
   "execution_count": 8,
   "metadata": {},
   "outputs": [],
   "source": [
    "import numpy as np\n",
    "import argparse\n",
    "import imutils\n",
    "import cv2\n",
    "from matplotlib import pyplot as plt"
   ]
  },
  {
   "cell_type": "markdown",
   "metadata": {},
   "source": [
    "## Translation"
   ]
  },
  {
   "cell_type": "markdown",
   "metadata": {},
   "source": [
    "Simplemente se necesita especificar cuántos píxeles deseo cambiar en la imagen # en la dirección X e Y: translación de la imagen 25 píxeles a la derecha y 50 pixeles abajo. [[1, 0, shiftX], [0, 1, shiftY]]"
   ]
  },
  {
   "cell_type": "code",
   "execution_count": 4,
   "metadata": {},
   "outputs": [],
   "source": [
    "image = cv2.imread(\"C:/Users/algonzalez/source/repos/Computer_Vision/1_Basics_of_Computer_Vision/images/Imagen1.jpg\")\n",
    "cv2.imshow(\"Original\", image)\n",
    "cv2.waitKey(0)\n",
    "cv2.destroyAllWindows()\n",
    "\n",
    "M = np.float32([[1, 0, 25], [0, 1, 50]])\n",
    "shifted = cv2.warpAffine(image, M, (image.shape[1], image.shape[0]))\n",
    "cv2.imshow(\"Shifted Down and Right\", shifted)\n",
    "cv2.waitKey(0)\n",
    "cv2.destroyAllWindows()\n",
    "\n",
    "M = np.float32([[1, 0, -50], [0, 1, -90]])\n",
    "shifted = cv2.warpAffine(image, M, (image.shape[1], image.shape[0]))\n",
    "cv2.imshow(\"Shifted Up and Left\", shifted)\n",
    "cv2.waitKey(0)\n",
    "cv2.destroyAllWindows()\n",
    "\n",
    "shifted = imutils.translate(image, 0, 100)\n",
    "cv2.imshow(\"Shifted Down\", shifted)\n",
    "cv2.waitKey(0)\n",
    "cv2.destroyAllWindows()"
   ]
  },
  {
   "cell_type": "markdown",
   "metadata": {},
   "source": [
    "## Resized"
   ]
  },
  {
   "cell_type": "markdown",
   "metadata": {},
   "source": [
    "La escala o el cambio de tamaño, es el proceso de aumentar o disminuir el tamaño de una imagen en términos de ancho y alto.\n",
    "\n",
    "Al cambiar el tamaño de una imagen, es importante tener en cuenta la relación de aspecto, que es la relación entre el ancho de la imagen y la altura de una imagen.\n",
    "\n",
    "Ignorar la relación de aspecto puede llevar a imágenes redimensionadas que se ven comprimidas y distorsionadas. En general, queremos conservar la relación de aspecto de nuestras imágenes cuando cambiamos el tamaño por lo tanto:\n",
    "\n",
    "Debemos tener en cuenta el método de interpolación de nuestra función de redimensionamiento. \n",
    "La definición formal de interpolación es el método para construir nuevos puntos de datos dentro del rango de un conjunto discreto de puntos conocidos.\n",
    "\n",
    "En este caso, los puntos conocidos son los píxeles de nuestra imagen original. Y el objetivo de una función de interpolación es tomar estos vecindarios de píxeles y usarlos para aumentar o disminuir el tamaño de la imagen. En general, es mucho más beneficioso (y visualmente atractivo) reducir el tamaño de la imagen. Esto se debe a que la función de interpolación simplemente tiene que eliminar píxeles de una imagen. Por otro lado, si tuviéramos que aumentar el tamaño de la imagen, la función de interpolación tendría que \"rellenar los huecos\" entre los píxeles que antes no existían.\n"
   ]
  },
  {
   "cell_type": "code",
   "execution_count": 9,
   "metadata": {},
   "outputs": [],
   "source": [
    "r = 150.0 / image.shape[1]\n",
    "dim = (150, int(image.shape[0] * r))\n",
    "\n",
    "# perform the actual resizing of the image\n",
    "resized = cv2.resize(image, dim, interpolation=cv2.INTER_AREA)\n",
    "cv2.imshow(\"Resized (Width)\", resized)\n",
    "cv2.waitKey(0)\n",
    "cv2.destroyAllWindows()\n",
    "\n",
    "# what if we wanted to adjust the height of the image? -- we can apply\n",
    "# the same concept, again keeping in mind the aspect ratio, but instead\n",
    "# calculating the ratio based on height -- let's make the height of the\n",
    "# resized image 50 pixels\n",
    "r = 50.0 / image.shape[0]\n",
    "dim = (int(image.shape[1] * r), 50)\n",
    "\n",
    "# perform the resizing\n",
    "resized = cv2.resize(image, dim, interpolation=cv2.INTER_AREA)\n",
    "cv2.imshow(\"Resized (Height)\", resized)\n",
    "cv2.waitKey(0)\n",
    "cv2.destroyAllWindows()\n",
    "\n",
    "# calculating the ratio each and every time we want to resize\n",
    "# an image is a real pain -- let's create a  function where we can specify\n",
    "# our target width or height, and have it take care of the rest for us.\n",
    "resized = imutils.resize(image, width=100)\n",
    "cv2.imshow(\"Resized via Function\", resized)\n",
    "cv2.waitKey(0)\n",
    "cv2.destroyAllWindows()\n",
    "\n",
    "# construct the list of interpolation methods\n",
    "methods = [\n",
    "    (\"cv2.INTER_NEAREST\", cv2.INTER_NEAREST),\n",
    "    (\"cv2.INTER_LINEAR\", cv2.INTER_LINEAR),\n",
    "    (\"cv2.INTER_AREA\", cv2.INTER_AREA),\n",
    "    (\"cv2.INTER_CUBIC\", cv2.INTER_CUBIC),\n",
    "    (\"cv2.INTER_LANCZOS4\", cv2.INTER_LANCZOS4)]\n",
    "\n",
    "# loop sobre los métodos de interpolación\n",
    "for (name, method) in methods:\n",
    "    resized = imutils.resize(image, width=image.shape[1]*2, inter=method)\n",
    "    cv2.imshow(\"Method: {}\".format(name), resized)\n",
    "    cv2.waitKey(0)\n",
    "    cv2.destroyAllWindows()"
   ]
  },
  {
   "cell_type": "markdown",
   "metadata": {},
   "source": [
    "## Crop"
   ]
  },
  {
   "cell_type": "markdown",
   "metadata": {},
   "source": [
    "Cuando recortamos una imagen, queremos eliminar las partes externas de la imagen que no nos interesan. Esto se conoce comúnmente como selección de nuestra Región de interés o, más simplemente, nuestro ROI."
   ]
  },
  {
   "cell_type": "code",
   "execution_count": 4,
   "metadata": {},
   "outputs": [],
   "source": [
    "image = cv2.imread(\"C:/Users/algonzalez/source/repos/Computer_Vision/1_Basics_of_Computer_Vision/images/file.jpeg\")\n",
    "# Hacer crop de manera facil podriamos usar la tecnica de slicing sobre un Numpy array\n",
    "face = image[50:300, 50:560]\n",
    "cv2.imshow(\"Image\", face)\n",
    "cv2.waitKey(0)\n",
    "cv2.destroyAllWindows()\n",
    "\n",
    "body = image[90:450, 0:290]\n",
    "cv2.imshow(\"Image\", body)\n",
    "cv2.waitKey(0)\n",
    "cv2.destroyAllWindows()"
   ]
  },
  {
   "cell_type": "markdown",
   "metadata": {},
   "source": [
    "## Rotate"
   ]
  },
  {
   "cell_type": "code",
   "execution_count": 5,
   "metadata": {},
   "outputs": [],
   "source": [
    "\n",
    "(h, w) = image.shape[:2]\n",
    "(cX, cY) = (w / 2, h / 2)\n",
    "\n",
    "# Rotar la imagen 45 grados\n",
    "M = cv2.getRotationMatrix2D((cX, cY), 45, 1.0)\n",
    "rotated = cv2.warpAffine(image, M, (w, h))\n",
    "cv2.imshow(\"Rotated by 45 Degrees\", rotated)\n",
    "cv2.waitKey(0)\n",
    "cv2.destroyAllWindows()\n",
    "\n",
    "# Rotar nuestra imagen -90 grados\n",
    "M = cv2.getRotationMatrix2D((cX, cY), -90, 1.0)\n",
    "rotated = cv2.warpAffine(image, M, (w, h))\n",
    "cv2.imshow(\"Rotated by -90 Degrees\", rotated)\n",
    "cv2.waitKey(0)\n",
    "cv2.destroyAllWindows()\n",
    "\n",
    "# Rotar la imagen sobre un punto aleatorio sobre el centro\n",
    "M = cv2.getRotationMatrix2D((cX - 50, cY - 50), 45, 1.0)\n",
    "rotated = cv2.warpAffine(image, M, (w, h))\n",
    "cv2.imshow(\"Rotated by Offset & 45 Degrees\", rotated)\n",
    "cv2.waitKey(0)\n",
    "cv2.destroyAllWindows()\n",
    "\n",
    "# 180 grados\n",
    "rotated = imutils.rotate(image, 180)\n",
    "cv2.imshow(\"Rotated by 180 Degrees\", rotated)\n",
    "cv2.waitKey(0)\n",
    "cv2.destroyAllWindows()"
   ]
  },
  {
   "cell_type": "markdown",
   "metadata": {},
   "source": [
    "## Flipped"
   ]
  },
  {
   "cell_type": "code",
   "execution_count": 6,
   "metadata": {},
   "outputs": [],
   "source": [
    "cv2.imshow(\"Original\", image)\n",
    "cv2.waitKey(0)\n",
    "cv2.destroyAllWindows()\n",
    "\n",
    "# flip horizontal\n",
    "flipped = cv2.flip(image, 1)\n",
    "cv2.imshow(\"Flipped Horizontally\", flipped)\n",
    "cv2.waitKey(0)\n",
    "cv2.destroyAllWindows()\n",
    "\n",
    "# flip vertical\n",
    "flipped = cv2.flip(image, 0)\n",
    "cv2.imshow(\"Flipped Vertically\", flipped)\n",
    "cv2.waitKey(0)\n",
    "cv2.destroyAllWindows()\n",
    "\n",
    "# flip en ambos ejes\n",
    "flipped = cv2.flip(image, -1)\n",
    "cv2.imshow(\"Flipped Horizontally & Vertically\", flipped)\n",
    "cv2.waitKey(0)\n",
    "cv2.destroyAllWindows()"
   ]
  },
  {
   "cell_type": "markdown",
   "metadata": {},
   "source": [
    "## Bitwise"
   ]
  },
  {
   "cell_type": "markdown",
   "metadata": {},
   "source": [
    "La función bitwise_and examina cada píxel en el rectángulo y el círculo. Si ambos pixeles tiene un valor mayor que cero, ese píxel se pone en \"ON\" (es decir, puesto a 255 en la imagen de salida). Si ambos píxeles no son mayores que cero, entonces el píxel de salida se deja en \"OFF\" con un valor de 0.\n",
    "\n",
    "Un 'OR' a nivel de bits examina cada píxel en el rectángulo y el círculo. Si un píxel en el rectángulo o círculo de ejemplo es mayor que cero, entonces el píxel de salida tiene un valor de 255, de lo contrario es 0\n",
    "\n",
    "El bit 'XOR' es idéntico a la función 'OR', con una excepción: tanto el rectángulo como el círculo no están permitidos a AMBOS tienen valores mayores que 0.\n",
    "\n",
    "Finalmente, el bit 'NOT' invierte los valores de los píxeles. Pixeles\n",
    "con un valor de 255 se convierte en 0, y los píxeles con un valor de 0 se convierten\n",
    "255."
   ]
  },
  {
   "cell_type": "code",
   "execution_count": 10,
   "metadata": {},
   "outputs": [],
   "source": [
    "rectangle = np.zeros((300, 300), dtype = \"uint8\")\n",
    "cv2.rectangle(rectangle, (25, 25), (275, 275), 255, -1)\n",
    "cv2.imshow(\"Rectangle\", rectangle)\n",
    "\n",
    "circle = np.zeros((300, 300), dtype = \"uint8\")\n",
    "cv2.circle(circle, (150, 150), 150, 255, -1)\n",
    "cv2.imshow(\"Circle\", circle)\n",
    "\n",
    "bitwiseAnd = cv2.bitwise_and(rectangle, circle)\n",
    "cv2.imshow(\"AND\", bitwiseAnd)\n",
    "cv2.waitKey(0)\n",
    "\n",
    "bitwiseOr = cv2.bitwise_or(rectangle, circle)\n",
    "cv2.imshow(\"OR\", bitwiseOr)\n",
    "cv2.waitKey(0)\n",
    "\n",
    "bitwiseXor = cv2.bitwise_xor(rectangle, circle)\n",
    "cv2.imshow(\"XOR\", bitwiseXor)\n",
    "cv2.waitKey(0)\n",
    "\n",
    "bitwiseNot = cv2.bitwise_not(circle)\n",
    "cv2.imshow(\"NOT\", bitwiseNot)\n",
    "cv2.waitKey(0)\n",
    "cv2.destroyAllWindows()"
   ]
  },
  {
   "cell_type": "markdown",
   "metadata": {},
   "source": [
    "## Arithmetic"
   ]
  },
  {
   "cell_type": "markdown",
   "metadata": {},
   "source": [
    "Las imágenes son matrices o NumPy, almacenadas como enteros de 8 bits sin signo. Esto,\n",
    "nos demuestra que los valores de nuestros píxeles estarán en el rango [0, 255]. Cuando\n",
    "usando funciones como cv2.add y cv2.subtract, los valores serán recortados\n",
    "a este rango, incluso si los valores agregados o restados caen fuera del\n",
    "rango de [0, 255]. Por ejemplo:"
   ]
  },
  {
   "cell_type": "code",
   "execution_count": 9,
   "metadata": {},
   "outputs": [
    {
     "name": "stdout",
     "output_type": "stream",
     "text": [
      "max of 255: [[255]]\n",
      "min of 0: [[0]]\n",
      "wrap around: [44]\n",
      "wrap around: [206]\n"
     ]
    }
   ],
   "source": [
    "print(\"max of 255: {}\".format(str(cv2.add(np.uint8([200]), np.uint8([100])))))\n",
    "print(\"min of 0: {}\".format(str(cv2.subtract(np.uint8([50]), np.uint8([100])))))\n",
    "\n",
    "# NOTA: utilizar operaciones aritméticas NumPy en estas matrices, el valor\n",
    "# será modulos (wrap around) en lugar de ser recortado al [0, 255]\n",
    "# distancia. Es importante tener esto en cuenta al trabajar con imágenes.\n",
    "print(\"wrap around: {}\".format(str(np.uint8([200]) + np.uint8([100]))))\n",
    "print(\"wrap around: {}\".format(str(np.uint8([50]) - np.uint8([100]))))\n",
    "\n",
    "# vamos a aumentar la intensidad de todos los píxeles en nuestra imagen en 100\n",
    "# lograr esto mediante la construcción de una matriz NumPy que es del mismo tamaño que\n",
    "# nuestra matriz (llena de unos) y la multiplicación por 100 para crear un\n",
    "# array lleno de 100, luego simplemente sumamos las imágene. Fijarse como la imagen es \"más brillante\"\n",
    "M = np.ones(image.shape, dtype = \"uint8\") * 100\n",
    "added = cv2.add(image, M)\n",
    "cv2.imshow(\"Added\", added)\n",
    "cv2.waitKey(0)\n",
    "cv2.destroyAllWindows()\n",
    "\n",
    "# Podemos restar 50 de todos los píxeles de nuestra imagen y hacer que sea más oscura\n",
    "M = np.ones(image.shape, dtype = \"uint8\") * 50\n",
    "subtracted = cv2.subtract(image, M)\n",
    "cv2.imshow(\"Subtracted\", subtracted)\n",
    "cv2.waitKey(0)\n",
    "cv2.destroyAllWindows()"
   ]
  },
  {
   "cell_type": "code",
   "execution_count": null,
   "metadata": {},
   "outputs": [],
   "source": []
  }
 ],
 "metadata": {
  "kernelspec": {
   "display_name": "computer-vision-env",
   "language": "python",
   "name": "computer-vision-env"
  },
  "language_info": {
   "codemirror_mode": {
    "name": "ipython",
    "version": 3
   },
   "file_extension": ".py",
   "mimetype": "text/x-python",
   "name": "python",
   "nbconvert_exporter": "python",
   "pygments_lexer": "ipython3",
   "version": "3.5.6"
  },
  "nav_menu": {},
  "toc": {
   "navigate_menu": true,
   "number_sections": true,
   "sideBar": true,
   "threshold": 6,
   "toc_cell": false,
   "toc_section_display": "block",
   "toc_window_display": true
  },
  "toc_position": {
   "height": "616px",
   "left": "0px",
   "right": "20px",
   "top": "106px",
   "width": "213px"
  }
 },
 "nbformat": 4,
 "nbformat_minor": 1
}
